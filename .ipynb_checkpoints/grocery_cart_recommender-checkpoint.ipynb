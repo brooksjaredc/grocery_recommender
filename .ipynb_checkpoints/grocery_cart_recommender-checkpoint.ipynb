{
 "cells": [
  {
   "cell_type": "markdown",
   "metadata": {},
   "source": [
    "# Grocery Cart Recommender System\n",
    "\n",
    "### I found this dataset on kaggle and wanted to try my hand at a recommender system. The data set contain information on the types of groceries that are bought together. Each row is a cart, and each column is an item from that cart. Based off that, I can build a grocery cart recommendation system.\n",
    "\n",
    "### I will build my recommendation system using the surprise library in python.\n",
    "\n",
    "### Then I will test it using the standard method, and a few custom methods"
   ]
  },
  {
   "cell_type": "code",
   "execution_count": 1,
   "metadata": {},
   "outputs": [],
   "source": [
    "import pandas as pd\n",
    "import numpy as np\n",
    "from random import sample, seed, randint\n",
    "from surprise import Reader, Dataset, SVD"
   ]
  },
  {
   "cell_type": "code",
   "execution_count": 2,
   "metadata": {},
   "outputs": [],
   "source": [
    "groceries = pd.read_csv('groceries-groceries.csv')"
   ]
  },
  {
   "cell_type": "code",
   "execution_count": 3,
   "metadata": {},
   "outputs": [
    {
     "data": {
      "text/html": [
       "<div>\n",
       "<style scoped>\n",
       "    .dataframe tbody tr th:only-of-type {\n",
       "        vertical-align: middle;\n",
       "    }\n",
       "\n",
       "    .dataframe tbody tr th {\n",
       "        vertical-align: top;\n",
       "    }\n",
       "\n",
       "    .dataframe thead th {\n",
       "        text-align: right;\n",
       "    }\n",
       "</style>\n",
       "<table border=\"1\" class=\"dataframe\">\n",
       "  <thead>\n",
       "    <tr style=\"text-align: right;\">\n",
       "      <th></th>\n",
       "      <th>Item(s)</th>\n",
       "      <th>Item 1</th>\n",
       "      <th>Item 2</th>\n",
       "      <th>Item 3</th>\n",
       "      <th>Item 4</th>\n",
       "      <th>Item 5</th>\n",
       "      <th>Item 6</th>\n",
       "      <th>Item 7</th>\n",
       "      <th>Item 8</th>\n",
       "      <th>Item 9</th>\n",
       "      <th>...</th>\n",
       "      <th>Item 23</th>\n",
       "      <th>Item 24</th>\n",
       "      <th>Item 25</th>\n",
       "      <th>Item 26</th>\n",
       "      <th>Item 27</th>\n",
       "      <th>Item 28</th>\n",
       "      <th>Item 29</th>\n",
       "      <th>Item 30</th>\n",
       "      <th>Item 31</th>\n",
       "      <th>Item 32</th>\n",
       "    </tr>\n",
       "  </thead>\n",
       "  <tbody>\n",
       "    <tr>\n",
       "      <th>0</th>\n",
       "      <td>4</td>\n",
       "      <td>citrus fruit</td>\n",
       "      <td>semi-finished bread</td>\n",
       "      <td>margarine</td>\n",
       "      <td>ready soups</td>\n",
       "      <td>NaN</td>\n",
       "      <td>NaN</td>\n",
       "      <td>NaN</td>\n",
       "      <td>NaN</td>\n",
       "      <td>NaN</td>\n",
       "      <td>...</td>\n",
       "      <td>NaN</td>\n",
       "      <td>NaN</td>\n",
       "      <td>NaN</td>\n",
       "      <td>NaN</td>\n",
       "      <td>NaN</td>\n",
       "      <td>NaN</td>\n",
       "      <td>NaN</td>\n",
       "      <td>NaN</td>\n",
       "      <td>NaN</td>\n",
       "      <td>NaN</td>\n",
       "    </tr>\n",
       "    <tr>\n",
       "      <th>1</th>\n",
       "      <td>3</td>\n",
       "      <td>tropical fruit</td>\n",
       "      <td>yogurt</td>\n",
       "      <td>coffee</td>\n",
       "      <td>NaN</td>\n",
       "      <td>NaN</td>\n",
       "      <td>NaN</td>\n",
       "      <td>NaN</td>\n",
       "      <td>NaN</td>\n",
       "      <td>NaN</td>\n",
       "      <td>...</td>\n",
       "      <td>NaN</td>\n",
       "      <td>NaN</td>\n",
       "      <td>NaN</td>\n",
       "      <td>NaN</td>\n",
       "      <td>NaN</td>\n",
       "      <td>NaN</td>\n",
       "      <td>NaN</td>\n",
       "      <td>NaN</td>\n",
       "      <td>NaN</td>\n",
       "      <td>NaN</td>\n",
       "    </tr>\n",
       "    <tr>\n",
       "      <th>2</th>\n",
       "      <td>1</td>\n",
       "      <td>whole milk</td>\n",
       "      <td>NaN</td>\n",
       "      <td>NaN</td>\n",
       "      <td>NaN</td>\n",
       "      <td>NaN</td>\n",
       "      <td>NaN</td>\n",
       "      <td>NaN</td>\n",
       "      <td>NaN</td>\n",
       "      <td>NaN</td>\n",
       "      <td>...</td>\n",
       "      <td>NaN</td>\n",
       "      <td>NaN</td>\n",
       "      <td>NaN</td>\n",
       "      <td>NaN</td>\n",
       "      <td>NaN</td>\n",
       "      <td>NaN</td>\n",
       "      <td>NaN</td>\n",
       "      <td>NaN</td>\n",
       "      <td>NaN</td>\n",
       "      <td>NaN</td>\n",
       "    </tr>\n",
       "    <tr>\n",
       "      <th>3</th>\n",
       "      <td>4</td>\n",
       "      <td>pip fruit</td>\n",
       "      <td>yogurt</td>\n",
       "      <td>cream cheese</td>\n",
       "      <td>meat spreads</td>\n",
       "      <td>NaN</td>\n",
       "      <td>NaN</td>\n",
       "      <td>NaN</td>\n",
       "      <td>NaN</td>\n",
       "      <td>NaN</td>\n",
       "      <td>...</td>\n",
       "      <td>NaN</td>\n",
       "      <td>NaN</td>\n",
       "      <td>NaN</td>\n",
       "      <td>NaN</td>\n",
       "      <td>NaN</td>\n",
       "      <td>NaN</td>\n",
       "      <td>NaN</td>\n",
       "      <td>NaN</td>\n",
       "      <td>NaN</td>\n",
       "      <td>NaN</td>\n",
       "    </tr>\n",
       "    <tr>\n",
       "      <th>4</th>\n",
       "      <td>4</td>\n",
       "      <td>other vegetables</td>\n",
       "      <td>whole milk</td>\n",
       "      <td>condensed milk</td>\n",
       "      <td>long life bakery product</td>\n",
       "      <td>NaN</td>\n",
       "      <td>NaN</td>\n",
       "      <td>NaN</td>\n",
       "      <td>NaN</td>\n",
       "      <td>NaN</td>\n",
       "      <td>...</td>\n",
       "      <td>NaN</td>\n",
       "      <td>NaN</td>\n",
       "      <td>NaN</td>\n",
       "      <td>NaN</td>\n",
       "      <td>NaN</td>\n",
       "      <td>NaN</td>\n",
       "      <td>NaN</td>\n",
       "      <td>NaN</td>\n",
       "      <td>NaN</td>\n",
       "      <td>NaN</td>\n",
       "    </tr>\n",
       "  </tbody>\n",
       "</table>\n",
       "<p>5 rows × 33 columns</p>\n",
       "</div>"
      ],
      "text/plain": [
       "   Item(s)            Item 1               Item 2          Item 3  \\\n",
       "0        4      citrus fruit  semi-finished bread       margarine   \n",
       "1        3    tropical fruit               yogurt          coffee   \n",
       "2        1        whole milk                  NaN             NaN   \n",
       "3        4         pip fruit               yogurt    cream cheese   \n",
       "4        4  other vegetables           whole milk  condensed milk   \n",
       "\n",
       "                     Item 4 Item 5 Item 6 Item 7 Item 8 Item 9   ...    \\\n",
       "0               ready soups    NaN    NaN    NaN    NaN    NaN   ...     \n",
       "1                       NaN    NaN    NaN    NaN    NaN    NaN   ...     \n",
       "2                       NaN    NaN    NaN    NaN    NaN    NaN   ...     \n",
       "3              meat spreads    NaN    NaN    NaN    NaN    NaN   ...     \n",
       "4  long life bakery product    NaN    NaN    NaN    NaN    NaN   ...     \n",
       "\n",
       "  Item 23 Item 24 Item 25 Item 26 Item 27 Item 28 Item 29 Item 30 Item 31  \\\n",
       "0     NaN     NaN     NaN     NaN     NaN     NaN     NaN     NaN     NaN   \n",
       "1     NaN     NaN     NaN     NaN     NaN     NaN     NaN     NaN     NaN   \n",
       "2     NaN     NaN     NaN     NaN     NaN     NaN     NaN     NaN     NaN   \n",
       "3     NaN     NaN     NaN     NaN     NaN     NaN     NaN     NaN     NaN   \n",
       "4     NaN     NaN     NaN     NaN     NaN     NaN     NaN     NaN     NaN   \n",
       "\n",
       "  Item 32  \n",
       "0     NaN  \n",
       "1     NaN  \n",
       "2     NaN  \n",
       "3     NaN  \n",
       "4     NaN  \n",
       "\n",
       "[5 rows x 33 columns]"
      ]
     },
     "execution_count": 3,
     "metadata": {},
     "output_type": "execute_result"
    }
   ],
   "source": [
    "groceries.head()"
   ]
  },
  {
   "cell_type": "markdown",
   "metadata": {},
   "source": [
    "### Briefly exporing the dataset, I wanna know the average number of items per cart, and the number of carts with more that 10 items"
   ]
  },
  {
   "cell_type": "code",
   "execution_count": 4,
   "metadata": {},
   "outputs": [
    {
     "name": "stdout",
     "output_type": "stream",
     "text": [
      "4.409456024402644\n",
      "650\n"
     ]
    }
   ],
   "source": [
    "print(np.mean(groceries[groceries.columns[0]]))\n",
    "print(len(groceries[groceries[groceries.columns[0]]>10]))"
   ]
  },
  {
   "cell_type": "markdown",
   "metadata": {},
   "source": [
    "## Extracting the set of all items, and creating an item dictionary"
   ]
  },
  {
   "cell_type": "code",
   "execution_count": 5,
   "metadata": {},
   "outputs": [],
   "source": [
    "# %%timeit -n 1 -r 2 a = 2\n",
    "cols = list(groceries.columns)\n",
    "cols.pop(0)\n",
    "\n",
    "items = []\n",
    "\n",
    "for col in cols:\n",
    "    items += groceries[col].tolist()\n",
    "    \n",
    "\n",
    "items = list(set(items))\n",
    "items = [item for item in items if str(item) != 'nan']\n",
    "item_dict = {k: v for v, k in enumerate(items)}"
   ]
  },
  {
   "cell_type": "code",
   "execution_count": 6,
   "metadata": {},
   "outputs": [
    {
     "data": {
      "text/plain": [
       "13"
      ]
     },
     "execution_count": 6,
     "metadata": {},
     "output_type": "execute_result"
    }
   ],
   "source": [
    "item_dict['citrus fruit']"
   ]
  },
  {
   "cell_type": "markdown",
   "metadata": {},
   "source": [
    "## Now I want the dataframe in a format with one column for the cart number, and one column for the item number\n",
    "\n",
    "### Since the recommender system is often used for items given a rating or a score, we need a column for that. But the customers didn't give any of these items a score, they either bought them or they didn't. So for every item that was bought, it gets a score of 1."
   ]
  },
  {
   "cell_type": "code",
   "execution_count": 7,
   "metadata": {},
   "outputs": [
    {
     "data": {
      "text/html": [
       "<div>\n",
       "<style scoped>\n",
       "    .dataframe tbody tr th:only-of-type {\n",
       "        vertical-align: middle;\n",
       "    }\n",
       "\n",
       "    .dataframe tbody tr th {\n",
       "        vertical-align: top;\n",
       "    }\n",
       "\n",
       "    .dataframe thead th {\n",
       "        text-align: right;\n",
       "    }\n",
       "</style>\n",
       "<table border=\"1\" class=\"dataframe\">\n",
       "  <thead>\n",
       "    <tr style=\"text-align: right;\">\n",
       "      <th></th>\n",
       "      <th>cart</th>\n",
       "      <th>item</th>\n",
       "      <th>score</th>\n",
       "    </tr>\n",
       "  </thead>\n",
       "  <tbody>\n",
       "    <tr>\n",
       "      <th>0</th>\n",
       "      <td>0</td>\n",
       "      <td>13</td>\n",
       "      <td>1</td>\n",
       "    </tr>\n",
       "    <tr>\n",
       "      <th>1</th>\n",
       "      <td>0</td>\n",
       "      <td>80</td>\n",
       "      <td>1</td>\n",
       "    </tr>\n",
       "    <tr>\n",
       "      <th>2</th>\n",
       "      <td>0</td>\n",
       "      <td>37</td>\n",
       "      <td>1</td>\n",
       "    </tr>\n",
       "    <tr>\n",
       "      <th>3</th>\n",
       "      <td>0</td>\n",
       "      <td>59</td>\n",
       "      <td>1</td>\n",
       "    </tr>\n",
       "    <tr>\n",
       "      <th>4</th>\n",
       "      <td>1</td>\n",
       "      <td>72</td>\n",
       "      <td>1</td>\n",
       "    </tr>\n",
       "  </tbody>\n",
       "</table>\n",
       "</div>"
      ],
      "text/plain": [
       "  cart item score\n",
       "0    0   13     1\n",
       "1    0   80     1\n",
       "2    0   37     1\n",
       "3    0   59     1\n",
       "4    1   72     1"
      ]
     },
     "execution_count": 7,
     "metadata": {},
     "output_type": "execute_result"
    }
   ],
   "source": [
    "#%%timeit -n 1 -r 2 a = 2\n",
    "df_long = pd.DataFrame(columns=['cart', 'item', 'score'])\n",
    "\n",
    "for index, row in groceries.iterrows():\n",
    "    #finished_row = False\n",
    "    for col in cols:\n",
    "        if row[col] in item_dict:\n",
    "            df_long = df_long.append({'cart': index, 'item': item_dict[row[col]], 'score': 1}, ignore_index=True)\n",
    "        else:\n",
    "            break\n",
    "        \n",
    "df_long.head()"
   ]
  },
  {
   "cell_type": "markdown",
   "metadata": {},
   "source": [
    "## Now we set up our reader, giving it the (0,1) scale mentioned above\n",
    "\n",
    "## Then we do some cross-validation "
   ]
  },
  {
   "cell_type": "code",
   "execution_count": 8,
   "metadata": {},
   "outputs": [],
   "source": [
    "from surprise.model_selection.validation import cross_validate\n",
    "reader = Reader(rating_scale=(0,1))"
   ]
  },
  {
   "cell_type": "code",
   "execution_count": 9,
   "metadata": {},
   "outputs": [
    {
     "name": "stdout",
     "output_type": "stream",
     "text": [
      "Evaluating RMSE, MAE of algorithm SVD on 10 split(s).\n",
      "\n",
      "                  Fold 1  Fold 2  Fold 3  Fold 4  Fold 5  Fold 6  Fold 7  Fold 8  Fold 9  Fold 10 Mean    Std     \n",
      "RMSE (testset)    0.0293  0.0293  0.0274  0.0277  0.0267  0.0282  0.0271  0.0282  0.0283  0.0276  0.0280  0.0008  \n",
      "MAE (testset)     0.0129  0.0124  0.0119  0.0119  0.0116  0.0121  0.0117  0.0121  0.0123  0.0118  0.0121  0.0004  \n",
      "Fit time          6.21    7.00    6.90    7.73    4.78    9.37    10.78   8.79    9.22    9.07    7.98    1.69    \n",
      "Test time         0.32    0.08    0.14    0.07    0.05    0.11    0.14    0.12    0.11    0.13    0.13    0.07    \n"
     ]
    },
    {
     "data": {
      "text/plain": [
       "{'fit_time': (6.211331844329834,\n",
       "  7.00226902961731,\n",
       "  6.896723031997681,\n",
       "  7.72976016998291,\n",
       "  4.782274961471558,\n",
       "  9.366635799407959,\n",
       "  10.777338027954102,\n",
       "  8.78551197052002,\n",
       "  9.21639108657837,\n",
       "  9.06538200378418),\n",
       " 'test_mae': array([0.01287845, 0.01241733, 0.01185041, 0.01190586, 0.01157082,\n",
       "        0.01213777, 0.01166065, 0.01211242, 0.01229705, 0.01179108]),\n",
       " 'test_rmse': array([0.02925785, 0.02928431, 0.02740502, 0.02770427, 0.02672813,\n",
       "        0.02816916, 0.02712351, 0.02822738, 0.02830823, 0.02763876]),\n",
       " 'test_time': (0.3245689868927002,\n",
       "  0.08448100090026855,\n",
       "  0.1384110450744629,\n",
       "  0.07311606407165527,\n",
       "  0.0470890998840332,\n",
       "  0.1108698844909668,\n",
       "  0.13843607902526855,\n",
       "  0.11655998229980469,\n",
       "  0.11436581611633301,\n",
       "  0.13244390487670898)}"
      ]
     },
     "execution_count": 9,
     "metadata": {},
     "output_type": "execute_result"
    }
   ],
   "source": [
    "data = Dataset.load_from_df(df_long[['cart', 'item', 'score']], reader)\n",
    "svd = SVD()\n",
    "cross_validate(svd, data, measures=['RMSE', 'MAE'], cv=10, verbose=True)"
   ]
  },
  {
   "cell_type": "markdown",
   "metadata": {},
   "source": [
    "## The cross-validation gave us good scores. Let's double check this with a train-test split"
   ]
  },
  {
   "cell_type": "code",
   "execution_count": 10,
   "metadata": {},
   "outputs": [
    {
     "name": "stdout",
     "output_type": "stream",
     "text": [
      "RMSE: 0.0304\n"
     ]
    },
    {
     "data": {
      "text/plain": [
       "0.03039695708407548"
      ]
     },
     "execution_count": 10,
     "metadata": {},
     "output_type": "execute_result"
    }
   ],
   "source": [
    "from surprise import accuracy\n",
    "from surprise.model_selection import train_test_split\n",
    "\n",
    "# reader = Reader(rating_scale=(0,1))\n",
    "\n",
    "# data = Dataset.load_from_df(df_long[['cart', 'item', 'score']], reader)\n",
    "\n",
    "# sample random trainset and testset\n",
    "# test set is made of 25% of the ratings.\n",
    "trainset, testset = train_test_split(data, test_size=.25)\n",
    "\n",
    "# We'll use the famous SVD algorithm.\n",
    "algo = SVD()\n",
    "\n",
    "# Train the algorithm on the trainset, and predict ratings for the testset\n",
    "algo.fit(trainset)\n",
    "predictions = algo.test(testset)\n",
    "\n",
    "# Then compute RMSE\n",
    "accuracy.rmse(predictions)"
   ]
  },
  {
   "cell_type": "markdown",
   "metadata": {},
   "source": [
    "### The RMSE is slightly larger than the CV results, but thats because the train set was smaller (0.75 vs. 0.90)"
   ]
  },
  {
   "cell_type": "markdown",
   "metadata": {},
   "source": [
    "# Custom tests:\n",
    "\n",
    "## The standard test that just give us back RMSE and MAE can tell us if it works better or worse than some other method, but in my opinion, are not very informative.\n",
    "\n",
    "### Here is my suggestion for testing: take a subset of carts that have at least 10 items and remove them from the training set. Then, for that subset, remove 1 item, and take suggestions for those carts and see how often the missing item is suggested.\n",
    "\n",
    "### There are 650 carts with more than 10 items, so we will take a random subset of 100 from them"
   ]
  },
  {
   "cell_type": "code",
   "execution_count": 11,
   "metadata": {},
   "outputs": [],
   "source": [
    "big_carts = groceries[groceries[groceries.columns[0]]>10]\n",
    "\n",
    "seed(90210)\n",
    "big_carts_indexes = list(big_carts.index)\n",
    "\n",
    "## This randomly selects 100 of the 650 carts that have more than 10 items\n",
    "test_cart_indexes = sample(big_carts_indexes, 100)"
   ]
  },
  {
   "cell_type": "code",
   "execution_count": null,
   "metadata": {},
   "outputs": [],
   "source": []
  },
  {
   "cell_type": "code",
   "execution_count": 12,
   "metadata": {},
   "outputs": [],
   "source": [
    "cols = list(groceries.columns)\n",
    "cols.pop(0)\n",
    "\n",
    "items = []\n",
    "\n",
    "for col in cols:\n",
    "    items += groceries[col].tolist()\n",
    "    \n",
    "\n",
    "items = list(set(items))\n",
    "items = [item for item in items if str(item) != 'nan']\n",
    "item_dict = {k: v for v, k in enumerate(items)}\n",
    "item_dict_rev = {v: k for k, v in item_dict.items()}\n",
    "\n",
    "df_long = pd.DataFrame(columns=['cart', 'item', 'score'])\n",
    "\n",
    "\n",
    "items_removed = {}\n",
    "\n",
    "## Here we are creating the same dataset to feed to the SVD as before, but for all the \"test carts\" selected,\n",
    "## we are removing one item and storing it in \"items_removed\"\n",
    "\n",
    "for index, row in groceries.iterrows():\n",
    "    if index in test_cart_indexes:\n",
    "        test_items = []\n",
    "        for col in cols:\n",
    "            if row[col] in item_dict:\n",
    "                test_items.append(row[col])\n",
    "        item_to_remove = randint(0,len(test_items)-1)\n",
    "        items_removed[index] = item_dict[test_items.pop(item_to_remove)]\n",
    "        for item in test_items:\n",
    "            df_long = df_long.append({'cart': index, 'item': item_dict[item], 'score': 1}, ignore_index=True)\n",
    "    else:\n",
    "        for col in cols:\n",
    "            if row[col] in item_dict:\n",
    "                df_long = df_long.append({'cart': index, 'item': item_dict[row[col]], 'score': 1}, ignore_index=True)\n",
    "            else:\n",
    "                break"
   ]
  },
  {
   "cell_type": "code",
   "execution_count": 13,
   "metadata": {},
   "outputs": [
    {
     "data": {
      "text/plain": [
       "<surprise.prediction_algorithms.matrix_factorization.SVD at 0x110e1f1d0>"
      ]
     },
     "execution_count": 13,
     "metadata": {},
     "output_type": "execute_result"
    }
   ],
   "source": [
    "## Setting up and training our SVD as before\n",
    "\n",
    "reader = Reader(rating_scale=(0,1))\n",
    "\n",
    "data = Dataset.load_from_df(df_long[['cart', 'item', 'score']], reader)\n",
    "svd = SVD()\n",
    "\n",
    "trainset = data.build_full_trainset()\n",
    "svd.fit(trainset)"
   ]
  },
  {
   "cell_type": "code",
   "execution_count": 14,
   "metadata": {},
   "outputs": [
    {
     "name": "stdout",
     "output_type": "stream",
     "text": [
      "pip fruit\n",
      "whole milk\n",
      "dessert\n",
      "butter milk\n",
      "yogurt\n",
      "cream cheese\n",
      "tidbits\n",
      "frozen potato products\n",
      "rolls/buns\n",
      "white bread\n",
      "mustard\n",
      "fruit/vegetable juice\n",
      "salty snack\n",
      "long life bakery product\n",
      "chocolate\n",
      "specialty bar\n",
      "napkins\n"
     ]
    },
    {
     "data": {
      "text/plain": [
       "[49, 128, 25, 145, 82, 154, 133, 165, 92, 111, 73, 52, 63, 62, 156, 33, 30]"
      ]
     },
     "execution_count": 14,
     "metadata": {},
     "output_type": "execute_result"
    }
   ],
   "source": [
    "## Just looking at some data, making sure things are working\n",
    "\n",
    "for item in df_long[df_long['cart']==test_cart_indexes[0]]['item']:\n",
    "    print(item_dict_rev[item])\n",
    "list(df_long[df_long['cart']==test_cart_indexes[0]]['item'])"
   ]
  },
  {
   "cell_type": "code",
   "execution_count": 15,
   "metadata": {},
   "outputs": [
    {
     "data": {
      "text/plain": [
       "0.9826785613427292"
      ]
     },
     "execution_count": 15,
     "metadata": {},
     "output_type": "execute_result"
    }
   ],
   "source": [
    "svd.predict(test_cart_indexes[0], items_removed[test_cart_indexes[0]]).est"
   ]
  },
  {
   "cell_type": "code",
   "execution_count": 16,
   "metadata": {},
   "outputs": [],
   "source": [
    "# suggs = pd.DataFrame(columns=['index', 'item', 'score'])\n",
    "\n",
    "# cart_items = list(df_long[df_long['cart']==test_cart_indexes[0]]['item'])\n",
    "\n",
    "# for ind in item_dict_rev.keys():\n",
    "#     if ind not in cart_items:\n",
    "#         est = svd.predict(test_cart_indexes[0], ind).est\n",
    "#         item = item_dict_rev[ind]\n",
    "#         suggs = suggs.append({'index': ind, 'item': item, 'score': est}, ignore_index=True)\n",
    "        \n",
    "# suggs = suggs.sort_values('score', ascending=False)\n",
    "# suggs[:5]['index']"
   ]
  },
  {
   "cell_type": "markdown",
   "metadata": {},
   "source": [
    "## Now we go through all the test carts, calculate the error for the missing item (1 - its suggestion estimate), and whether or not the missing item showed up in the top 5, 10, 20, and 50 suggested items"
   ]
  },
  {
   "cell_type": "code",
   "execution_count": 17,
   "metadata": {},
   "outputs": [
    {
     "name": "stdout",
     "output_type": "stream",
     "text": [
      "0.03978365413967616\n",
      "0.04 0.1 0.15 0.3\n"
     ]
    }
   ],
   "source": [
    "errors = []\n",
    "top5 = []\n",
    "top10 = []\n",
    "top20 = []\n",
    "top50 = []\n",
    "\n",
    "for cart in test_cart_indexes:\n",
    "    \n",
    "    suggs = pd.DataFrame(columns=['index', 'item', 'score'])\n",
    "    \n",
    "    cart_items = list(df_long[df_long['cart']==cart]['item'])\n",
    "    \n",
    "    est = svd.predict(test_cart_indexes[0], items_removed[cart]).est\n",
    "    error = 1.0-est\n",
    "    errors.append(error)\n",
    "    \n",
    "    for ind in item_dict_rev.keys():\n",
    "        if ind not in cart_items:\n",
    "            est = svd.predict(test_cart_indexes[0], ind).est\n",
    "            item = item_dict_rev[ind]\n",
    "            suggs = suggs.append({'index': ind, 'item': item, 'score': est}, ignore_index=True)\n",
    "        \n",
    "    suggs = suggs.sort_values('score', ascending=False)\n",
    "    \n",
    "    if items_removed[cart] in suggs[:5]['index']:\n",
    "        top5.append(1)\n",
    "    else:\n",
    "        top5.append(0)\n",
    "    \n",
    "    if items_removed[cart] in suggs[:10]['index']:\n",
    "        top10.append(1)\n",
    "    else:\n",
    "        top10.append(0)\n",
    "        \n",
    "    if items_removed[cart] in suggs[:20]['index']:\n",
    "        top20.append(1)\n",
    "    else:\n",
    "        top20.append(0)\n",
    "        \n",
    "    if items_removed[cart] in suggs[:50]['index']:\n",
    "        top50.append(1)\n",
    "    else:\n",
    "        top50.append(0)\n",
    "\n",
    "rmse = np.sqrt(np.mean([error*error for error in errors]))\n",
    "print(rmse)\n",
    "print(np.mean(top5), np.mean(top10), np.mean(top20), np.mean(top50))"
   ]
  },
  {
   "cell_type": "markdown",
   "metadata": {},
   "source": [
    "## We get a similar RMSE for our way of calculating it, but slightly larger\n",
    "\n",
    "## But the other measures are much more informative\n",
    "\n",
    "## The missing item from the test carts showed up in the top 5 recommended items only 4% of the time, and in the top 50 less than 1/3 of the time. This isn't quite as good as the low RMSE errors led me to believe, but maybe this is par for the course in recommender systems"
   ]
  },
  {
   "cell_type": "code",
   "execution_count": null,
   "metadata": {},
   "outputs": [],
   "source": []
  }
 ],
 "metadata": {
  "kernelspec": {
   "display_name": "Python [conda env:anaconda3]",
   "language": "python",
   "name": "conda-env-anaconda3-py"
  },
  "language_info": {
   "codemirror_mode": {
    "name": "ipython",
    "version": 3
   },
   "file_extension": ".py",
   "mimetype": "text/x-python",
   "name": "python",
   "nbconvert_exporter": "python",
   "pygments_lexer": "ipython3",
   "version": "3.5.5"
  }
 },
 "nbformat": 4,
 "nbformat_minor": 2
}
